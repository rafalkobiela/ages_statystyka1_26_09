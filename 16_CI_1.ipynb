{
 "cells": [
  {
   "cell_type": "markdown",
   "metadata": {},
   "source": [
    "# Zadanie (przedziały ufności)\n",
    "\n",
    "Znaleźć przedział ufności dla nieznanej wartości średniej $\\mu$ populacji, w której badana cecha ma rozkład $N(\\mu,\\sigma)$, w przypadku gdy $\\sigma$ jest znana, na podstawie $n$-elementowej próby prostej \n",
    "$$\n",
    "X_1,\\ldots,X_n.\n",
    "$$"
   ]
  },
  {
   "cell_type": "code",
   "execution_count": 1,
   "metadata": {},
   "outputs": [],
   "source": [
    "import matplotlib.pyplot as plt\n",
    "import numpy as np\n",
    "from scipy import stats\n",
    "from scipy import integrate"
   ]
  },
  {
   "cell_type": "markdown",
   "metadata": {},
   "source": [
    "Wiemy, że statystyka \n",
    "$$\n",
    "\\bar X = \\frac{1}{n} \\sum_{i=1}^{n} X_i\n",
    "$$\n",
    "ma rozkład \n",
    "$$\n",
    "N(\\mu, \\frac{\\sigma}{\\sqrt{n}}).\n",
    "$$\n",
    "\n",
    "Natomiast,  \n",
    "$$\n",
    "U = \\frac{\\bar X - \\mu}{\\sigma} \\sqrt{n} \n",
    "$$\n",
    "ma rozkład \n",
    "$$\n",
    "N(0, 1).\n",
    "$$"
   ]
  },
  {
   "cell_type": "markdown",
   "metadata": {},
   "source": [
    "Zdefiniujmy zmienną losową o rozkładzie Normalnym"
   ]
  },
  {
   "cell_type": "code",
   "execution_count": null,
   "metadata": {},
   "outputs": [],
   "source": []
  },
  {
   "cell_type": "markdown",
   "metadata": {},
   "source": [
    "Dla danego $\\alpha$ ($0<\\alpha<1$) możemy znaleść takie wartości $u_1$ i $u_1$, aby\n",
    "$$\n",
    "P( u_1<U<u_2 ) = CDF(u_2) - CDF(u_1) = 1-\\alpha.\n",
    "$$\n"
   ]
  },
  {
   "cell_type": "code",
   "execution_count": null,
   "metadata": {
    "collapsed": false,
    "jupyter": {
     "outputs_hidden": false
    }
   },
   "outputs": [],
   "source": []
  },
  {
   "cell_type": "markdown",
   "metadata": {},
   "source": [
    "Wystarczy w tym celu wybrać $\\alpha_1$ i $\\alpha_2$, takie, że spełniają one warunek:\n",
    "$$\n",
    "\\alpha_1+\\alpha_2 = \\alpha, \\qquad 0<\\alpha_1<\\alpha_2<\\alpha\n",
    "$$ \n",
    "\n",
    "i przyjąć\n",
    "$$\n",
    "u_1= PPF(\\alpha_1), \\qquad u_2= PPF(1 - \\alpha_2)\n",
    "$$\n",
    "czyli kwantyle rzedu $\\alpha_1$ i $1-\\alpha_1$.\n",
    "\n",
    "Wynika to z faktu, że\n",
    "$$\n",
    "CDF(PPF(1-\\alpha_2)) - CDF(PPF(\\alpha_1)) = 1-\\alpha_2 - \\alpha_1 = 1-\\alpha\n",
    "$$\n",
    "\n",
    "Więc\n",
    "$$\n",
    "P( u_1<U<u_2 ) = CDF(u_2) - CDF(u_1) = 1-\\alpha.\n",
    "$$"
   ]
  },
  {
   "cell_type": "markdown",
   "metadata": {},
   "source": [
    "# Zadanie 1\n",
    "Wybierz kilka różnych $\\alpha_1$ i $\\alpha_2$ (tak aby $\\alpha_1+\\alpha_2= \\alpha$) i narysuj przedział ufności:\n",
    "<ul>\n",
    "<li>$\\alpha_1=0.02$ , $\\alpha_2=\\alpha- 0.02$</li>\n",
    "<li>$\\alpha_1=0.000001$ , $\\alpha_2=\\alpha- 0.000001$</li>\n",
    "<li>$\\alpha_1=0.5 \\cdot  \\alpha$ , $\\alpha_2=0.5 \\cdot \\alpha$</li>\n",
    "</ul>"
   ]
  },
  {
   "cell_type": "code",
   "execution_count": null,
   "metadata": {},
   "outputs": [],
   "source": []
  },
  {
   "cell_type": "code",
   "execution_count": null,
   "metadata": {
    "collapsed": false,
    "jupyter": {
     "outputs_hidden": false
    }
   },
   "outputs": [],
   "source": []
  },
  {
   "cell_type": "code",
   "execution_count": null,
   "metadata": {
    "collapsed": false,
    "jupyter": {
     "outputs_hidden": false
    }
   },
   "outputs": [],
   "source": []
  },
  {
   "cell_type": "markdown",
   "metadata": {},
   "source": [
    "# Zadanie 2\n",
    "\n",
    "Niech $\\sigma=2$. Załóżmy, że w naszym zadaniu w $n=16$ próbach wypadło $\\bar x = 34.1$.\n",
    "\n",
    "Przyjmijmy współczynnik ufności $0.05$ wyznacz przedział największej wiarygodności:\n",
    "\n",
    "$$\n",
    "\\left( \\bar X - PPF(1-\\frac{\\alpha}{2}) \\frac{\\sigma}{\\sqrt{n}} , \\bar X + PPF(1-\\frac{\\alpha}{2}) \\frac{\\sigma}{\\sqrt{n}} \\right)\n",
    "$$"
   ]
  },
  {
   "cell_type": "code",
   "execution_count": null,
   "metadata": {
    "collapsed": false,
    "jupyter": {
     "outputs_hidden": false
    }
   },
   "outputs": [],
   "source": []
  },
  {
   "cell_type": "code",
   "execution_count": null,
   "metadata": {
    "collapsed": false,
    "jupyter": {
     "outputs_hidden": false
    }
   },
   "outputs": [],
   "source": []
  },
  {
   "cell_type": "code",
   "execution_count": null,
   "metadata": {
    "collapsed": false,
    "jupyter": {
     "outputs_hidden": false
    }
   },
   "outputs": [],
   "source": []
  },
  {
   "cell_type": "code",
   "execution_count": null,
   "metadata": {
    "collapsed": false,
    "jupyter": {
     "outputs_hidden": false
    }
   },
   "outputs": [],
   "source": []
  },
  {
   "cell_type": "markdown",
   "metadata": {},
   "source": [
    "# Zadanie 3\n",
    "Wykonaj zadanie za pomocą <tt>scipy</tt> i <tt>funkcji stats.norm.interval</tt>."
   ]
  },
  {
   "cell_type": "code",
   "execution_count": null,
   "metadata": {
    "collapsed": false,
    "jupyter": {
     "outputs_hidden": false
    }
   },
   "outputs": [],
   "source": []
  },
  {
   "cell_type": "code",
   "execution_count": null,
   "metadata": {},
   "outputs": [],
   "source": []
  }
 ],
 "metadata": {
  "kernelspec": {
   "display_name": "statystyka1",
   "language": "python",
   "name": "statystyka1"
  },
  "language_info": {
   "codemirror_mode": {
    "name": "ipython",
    "version": 3
   },
   "file_extension": ".py",
   "mimetype": "text/x-python",
   "name": "python",
   "nbconvert_exporter": "python",
   "pygments_lexer": "ipython3",
   "version": "3.8.2"
  }
 },
 "nbformat": 4,
 "nbformat_minor": 4
}
