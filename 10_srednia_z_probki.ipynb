{
 "cells": [
  {
   "cell_type": "markdown",
   "metadata": {},
   "source": [
    "# Statystyka opisowa"
   ]
  },
  {
   "cell_type": "code",
   "execution_count": 1,
   "metadata": {},
   "outputs": [],
   "source": [
    "import numpy as np\n",
    "from scipy import stats\n",
    "#x = np.arange(2,10)\n",
    "x=np.array([2, 4, 4, 4, 5, 5, 7, 9])"
   ]
  },
  {
   "cell_type": "markdown",
   "metadata": {},
   "source": [
    "Jeżeli cecha $X$ przyjmuje wartości $x_{1},x_{2}, \\ldots ,x_{n}$, wówczas jej średnią arytmetyczną, lub krótko średnią, nazywamy:\n",
    "$$\n",
    "\\bar X = \\frac{1}{n} \\sum_{i=1}^{n} x.\n",
    "$$"
   ]
  },
  {
   "cell_type": "code",
   "execution_count": null,
   "metadata": {},
   "outputs": [],
   "source": []
  },
  {
   "cell_type": "markdown",
   "metadata": {},
   "source": [
    "W niektórych sytuacjach średnia geometryczna może być użyteczna do opisania rozmieszczenia rozkładu. Można ją obliczyć za pomocą średniej arytmetycznej logarytmów wartości wartości\n",
    "\n",
    "$$\n",
    "mean_{geometric}=\\left( \\prod_{i=1}^{N} x_i \\right)^{1/n} = exp\\left( \\frac{\\sum_i ln(x_i)}{n} \\right).\n",
    "$$\n",
    "\n",
    "Zauważ, że wartości wejściowe dla średniej geometrycznej muszą być dodatnie.\n"
   ]
  },
  {
   "cell_type": "code",
   "execution_count": null,
   "metadata": {
    "collapsed": false,
    "jupyter": {
     "outputs_hidden": false
    }
   },
   "outputs": [],
   "source": []
  },
  {
   "cell_type": "markdown",
   "metadata": {},
   "source": [
    "Dla danego ciągu liczb $x_1, \\dots, x_n$, określamy ciąg $x_{(1)}, \\dots, x_{(n)}$, który powstaje przez jego niemalejące uporządkowanie, czyli:\n",
    "\n",
    "$$\n",
    "x_{(1)} \\le x_{(2)} \\le  \\dots \\le x_{(n)}.\n",
    "$$\n",
    "\n",
    "Medianą cechy $X$, przyjmującej wartości $x_1, \\dots, x_n$, nazywamy środkowy wyraz ciągu $x_{(1)}, \\dots, x_{(n)}$, gdy $n$ jest liczbą nieparzystą, lub średnią arytmetyczną dwóch wyrazów środkowych, gdy $n$ jest liczbą parzystą. Zatem:\n",
    "$$\n",
    "me =  \\left\\{\\begin{array} {lll} x_{(k+1)} &  \\hbox{ dla } & n=2k+1 \\\\[1mm] \\frac{x_{(k)}+x_{(k+1)}}{2} & \\hbox{ dla } & n=2k. \\end{array} \\right.\n",
    "$$"
   ]
  },
  {
   "cell_type": "code",
   "execution_count": null,
   "metadata": {
    "collapsed": false,
    "jupyter": {
     "outputs_hidden": false
    }
   },
   "outputs": [],
   "source": []
  },
  {
   "cell_type": "markdown",
   "metadata": {},
   "source": [
    "Załóżmy, że rozważaną populacją jest zbiór samochodów znajdujących się w określonym czasie na pewnym parkingu, zaś cechą - nazwa producenta samochodu."
   ]
  },
  {
   "cell_type": "code",
   "execution_count": 2,
   "metadata": {
    "collapsed": false,
    "jupyter": {
     "outputs_hidden": false
    },
    "scrolled": true
   },
   "outputs": [],
   "source": [
    "data = np.array(['Fiat', 'BMW', 'Ford', 'Ford', 'Fiat', 'Skoda', 'Fiat', 'Polonez', \n",
    "                 'Toyota','Toyota', 'Toyota', 'Renault', 'Opel', 'Fiat', 'Opel', 'Opel', 'Toyota'])\n"
   ]
  },
  {
   "cell_type": "markdown",
   "metadata": {},
   "source": [
    "Zakres (rang) jest po prostu różnicą między najwyższą i najniższą wartością w danych."
   ]
  },
  {
   "cell_type": "code",
   "execution_count": null,
   "metadata": {
    "collapsed": false,
    "jupyter": {
     "outputs_hidden": false
    }
   },
   "outputs": [],
   "source": []
  },
  {
   "cell_type": "markdown",
   "metadata": {},
   "source": [
    "Używa się dwóch estymatorów wariancji próbki:"
   ]
  },
  {
   "cell_type": "markdown",
   "metadata": {},
   "source": [
    "$$ S^2=var(X) = \\frac{1}{n} \\sum_{i=1}^{n} (x_i - \\bar x)^2$$"
   ]
  },
  {
   "cell_type": "code",
   "execution_count": null,
   "metadata": {
    "collapsed": false,
    "jupyter": {
     "outputs_hidden": false
    }
   },
   "outputs": [],
   "source": []
  },
  {
   "cell_type": "code",
   "execution_count": null,
   "metadata": {
    "collapsed": false,
    "jupyter": {
     "outputs_hidden": false
    }
   },
   "outputs": [],
   "source": []
  },
  {
   "cell_type": "code",
   "execution_count": null,
   "metadata": {
    "collapsed": false,
    "jupyter": {
     "outputs_hidden": false
    }
   },
   "outputs": [],
   "source": []
  },
  {
   "cell_type": "markdown",
   "metadata": {},
   "source": [
    "$$\n",
    "S^{*2}=var(X) = \\frac{1}{n-1} \\sum_{i=1}^{n} (x_i - \\bar x)^2\n",
    "$$"
   ]
  },
  {
   "cell_type": "markdown",
   "metadata": {},
   "source": [
    "np.sqrt(np.sum((x-np.mean(x))**2)/(x.size-1))"
   ]
  },
  {
   "cell_type": "code",
   "execution_count": null,
   "metadata": {
    "collapsed": false,
    "jupyter": {
     "outputs_hidden": false
    }
   },
   "outputs": [],
   "source": []
  },
  {
   "cell_type": "markdown",
   "metadata": {},
   "source": [
    "$$\n",
    "SEM = \\frac{s}{\\sqrt{n}} = \\sqrt{ \\frac{\\sum_{i=1}^{n} (x_i - \\bar x)^2}{n} } \\cdot \\frac{1}{\\sqrt{n}} = \\sqrt{ \\frac{\\sum_{i=1}^{n} (x_i - \\bar x)^2}{n^2} }, \n",
    "$$"
   ]
  },
  {
   "cell_type": "code",
   "execution_count": null,
   "metadata": {
    "collapsed": false,
    "jupyter": {
     "outputs_hidden": false
    }
   },
   "outputs": [],
   "source": []
  },
  {
   "cell_type": "code",
   "execution_count": null,
   "metadata": {
    "collapsed": false,
    "jupyter": {
     "outputs_hidden": false
    }
   },
   "outputs": [],
   "source": []
  },
  {
   "cell_type": "code",
   "execution_count": null,
   "metadata": {
    "collapsed": false,
    "jupyter": {
     "outputs_hidden": false
    }
   },
   "outputs": [],
   "source": []
  },
  {
   "cell_type": "code",
   "execution_count": null,
   "metadata": {
    "collapsed": false,
    "jupyter": {
     "outputs_hidden": false
    }
   },
   "outputs": [],
   "source": []
  },
  {
   "cell_type": "markdown",
   "metadata": {},
   "source": [
    "$$\n",
    "SEM^{*} = \\frac{s}{\\sqrt{n}} = \\sqrt{ \\frac{\\sum_{i=1}^{n} (x_i - \\bar x)^2}{n-1} } \\cdot \\frac{1}{\\sqrt{n}}.\n",
    "$$"
   ]
  },
  {
   "cell_type": "code",
   "execution_count": null,
   "metadata": {
    "collapsed": false,
    "jupyter": {
     "outputs_hidden": false
    }
   },
   "outputs": [],
   "source": []
  },
  {
   "cell_type": "code",
   "execution_count": null,
   "metadata": {
    "collapsed": false,
    "jupyter": {
     "outputs_hidden": false
    }
   },
   "outputs": [],
   "source": []
  },
  {
   "cell_type": "code",
   "execution_count": null,
   "metadata": {
    "collapsed": false,
    "jupyter": {
     "outputs_hidden": false
    }
   },
   "outputs": [],
   "source": []
  },
  {
   "cell_type": "markdown",
   "metadata": {},
   "source": [
    "# Korelacja Pearsona"
   ]
  },
  {
   "cell_type": "markdown",
   "metadata": {},
   "source": [
    "Współczynnik korelacji r Pearsona służy do sprawdzenia czy dwie zmienne ilościowe są powiązane ze sobą związkiem liniowym. Przybliżyliśmy problematykę tego rodzaju analizy statystycznej w niniejszym słowniczku pod ogólnym pojęciem korelacje.\n",
    "\n",
    "Podobnie jak inne współczynniki korelacji również wynik r Pearsona może wahać się od -1 do 1. Wartości skrajne czyli -1 i 1 oznaczają idealną, totalną korelację między zmienną A i zmienną B. Wynik równy “zero” oznacza brak współwystępowania wartości tych dwóch zmiennych w naturze (brak korelacji).\n",
    "\n"
   ]
  },
  {
   "cell_type": "markdown",
   "metadata": {},
   "source": [
    "$$\n",
    "r=\\frac{\\sum\\limits_{i=1}^{n}(x_i-\\overline{x})(y_i-\\overline{y})}{\\sqrt{\\sum\\limits_{i=1}^{n}(x_i-\\overline{x})^2\\sum\\limits_{i=1}^{n}(y_i-\\overline{y})^2}} \n",
    "$$"
   ]
  },
  {
   "cell_type": "code",
   "execution_count": 3,
   "metadata": {},
   "outputs": [],
   "source": [
    "Y = np.array([0,0,0,0,0,0,1,1,1,1,1,1])"
   ]
  },
  {
   "cell_type": "code",
   "execution_count": 4,
   "metadata": {
    "collapsed": false,
    "jupyter": {
     "outputs_hidden": false
    }
   },
   "outputs": [],
   "source": [
    "Y1 = np.array([0,1,1,1,1,1,1,1,1,1,1,1])\n"
   ]
  },
  {
   "cell_type": "code",
   "execution_count": 5,
   "metadata": {
    "collapsed": false,
    "jupyter": {
     "outputs_hidden": false
    }
   },
   "outputs": [],
   "source": [
    "Y2 = np.array([0,0,0,0,0,0,1,1,1,1,1,1])\n"
   ]
  },
  {
   "cell_type": "code",
   "execution_count": 6,
   "metadata": {
    "collapsed": false,
    "jupyter": {
     "outputs_hidden": false
    }
   },
   "outputs": [],
   "source": [
    "Y3 = np.array([0,0,0,0,0,0,0,0,0,0,0,1])\n"
   ]
  }
 ],
 "metadata": {
  "kernelspec": {
   "display_name": "statystyka1",
   "language": "python",
   "name": "statystyka1"
  },
  "language_info": {
   "codemirror_mode": {
    "name": "ipython",
    "version": 3
   },
   "file_extension": ".py",
   "mimetype": "text/x-python",
   "name": "python",
   "nbconvert_exporter": "python",
   "pygments_lexer": "ipython3",
   "version": "3.8.2"
  }
 },
 "nbformat": 4,
 "nbformat_minor": 4
}
