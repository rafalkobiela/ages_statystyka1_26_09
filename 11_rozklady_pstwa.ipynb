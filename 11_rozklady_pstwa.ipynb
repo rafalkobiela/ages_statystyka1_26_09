{
 "cells": [
  {
   "cell_type": "markdown",
   "metadata": {},
   "source": [
    "# Rozkłady prawdopodobieństwa, a testowanie hipotez\n",
    "\n",
    "Aby zilustrować związek pomiędzy <b> rozkładami prawdopodobieństwa</b>, a <b> testowaniem hipotez </b>, rozważmy następujący problem:\n",
    "\n",
    "<ul>\n",
    "<li> Średnia masa noworodków w USA wynosi $3.5$ kg, przy odchyleniu standardowym $0.76$ kg. \n",
    "<li> Załóżmy, że chcemy znaleźć wszystkie dzieci znacznie różniące się od normy (aby móc monitorować ich rozwój). \n",
    "<li> Co zrobić z dzieckiem, które urodziło się z wagą $2.6$ kg?\n",
    "<li> Możemy wypowiedzieć ten problem w formie testu hipotez:  \n",
    "<ul>\n",
    "<li> nasza hipoteza mówi, że dziecko pochodzi z populacji ``zdrowych'' niemowląt. </li>\n",
    "<li> czy możemy odrzucić hipotezę, czy też ciężar dziecka sugeruje, że nie ma podstaw do odrzucenia takiej hipotezy?</li>\n",
    "</ul>\n",
    "</ul>"
   ]
  },
  {
   "cell_type": "markdown",
   "metadata": {},
   "source": [
    "Aby odpowiedzieć na to pytanie, możemy postępować w następujący sposób:"
   ]
  },
  {
   "cell_type": "code",
   "execution_count": 1,
   "metadata": {},
   "outputs": [],
   "source": [
    "import matplotlib.pyplot as plt\n",
    "import numpy as np\n",
    "from scipy import stats\n",
    "from scipy import integrate"
   ]
  }
 ],
 "metadata": {
  "kernelspec": {
   "display_name": "statystyka1",
   "language": "python",
   "name": "statystyka1"
  },
  "language_info": {
   "codemirror_mode": {
    "name": "ipython",
    "version": 3
   },
   "file_extension": ".py",
   "mimetype": "text/x-python",
   "name": "python",
   "nbconvert_exporter": "python",
   "pygments_lexer": "ipython3",
   "version": "3.8.2"
  }
 },
 "nbformat": 4,
 "nbformat_minor": 4
}
