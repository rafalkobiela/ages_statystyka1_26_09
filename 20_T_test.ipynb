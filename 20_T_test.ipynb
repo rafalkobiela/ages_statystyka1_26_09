{
 "cells": [
  {
   "cell_type": "markdown",
   "metadata": {},
   "source": [
    "# Zadanie\n",
    "\n",
    "Z populacji, w której badana cecha ma rozkład $N(\\mu,4)$ wylosowano próbkę złożoną z $9$ obserwacji. Na poziomie istotności $\\alpha=0.05$ zweryfikować hipotezę \n",
    "\n",
    "<ul>\n",
    "<li> $H_0$: $\\mu=2$ przy hipotezie alternatywnej $H_1$: $\\mu <2$ </li>\n",
    "<li> $H_0$: $\\mu=2$ przy hipotezie alternatywnej $H_1$: $\\mu > 2$ </li>\n",
    "<li> $H_0$: $\\mu=2$ przy hipotezie alternatywnej $H_1$: $\\mu \\neq 2$ </li>\n",
    "</ul>\n",
    "\n",
    "jeżeli średnia z punktów wynosi $\\bar X = 1.4$."
   ]
  },
  {
   "cell_type": "code",
   "execution_count": 2,
   "metadata": {},
   "outputs": [],
   "source": [
    "import matplotlib.pyplot as plt\n",
    "import numpy as np\n",
    "from scipy import stats\n",
    "from scipy import integrate"
   ]
  },
  {
   "cell_type": "markdown",
   "metadata": {},
   "source": [
    "## Model 1.\n",
    "\n",
    "Badana cecha $X$ populacji generalnej ma rozkład $N(\\mu,\\sigma)$ przy <b> znanym $\\sigma$}</b>.\n",
    "\n",
    "Weryfikujemy hipotezę:\n",
    "\n",
    "$$\n",
    "H_{0}: \\mu = \\mu_0\n",
    "$$\n",
    "\n",
    "$$\n",
    "H_{1}: \\mu = \\mu_1 > \\mu_0\n",
    "$$\n",
    "\n",
    "\n",
    "W tym teście używa się statystyki\n",
    "$$\n",
    "U=\\frac{\\bar X - \\mu_0}{\\sigma} \\sqrt{n}\n",
    "$$\n",
    "Zbiór krytyczny jest dany za pomocą przedziału\n",
    "$$\n",
    "[u(1-\\alpha), +\\infty)\n",
    "$$\n",
    "gdzie $u(\\alpha)$ jest kwantylem rozkładu normalnego.\n"
   ]
  },
  {
   "cell_type": "markdown",
   "metadata": {},
   "source": [
    "## Model 2.\n",
    "\n",
    "Badana cecha $X$ populacji generalnej ma rozkład $N(\\mu,\\sigma)$ przy <b>znanym $\\sigma$</b>.\n",
    "\n",
    "Weryfikujemy hipotezę:\n",
    "\n",
    "\n",
    "$$\n",
    "H_{0}: \\mu = \\mu_0\n",
    "$$\n",
    "\n",
    "$$\n",
    "H_{1}: \\mu = \\mu_1 < \\mu_0\n",
    "$$\n",
    "\n",
    "W tym teście używa się statystyki\n",
    "$$\n",
    "U=\\frac{\\bar X - \\mu_0}{\\sigma} \\sqrt{n}\n",
    "$$\n",
    "Zbiór krytyczny jest dany za pomocą przedziału\n",
    "$$\n",
    "(-\\infty,-u(1-\\alpha)]\n",
    "$$\n",
    "gdzie $u(\\alpha)$ jest kwantylem rozkładu normalnego."
   ]
  },
  {
   "cell_type": "markdown",
   "metadata": {},
   "source": [
    "## Model 3\n",
    "\n",
    "Badana cecha $X$ populacji generalnej ma rozkład $N(\\mu,\\sigma)$ przy <b>znanym $\\sigma$</b>.\n",
    "\n",
    "Weryfikujemy hipotezę:\n",
    "\n",
    "$$\n",
    "H_{0}: \\mu = \\mu_0\n",
    "$$\n",
    "\n",
    "$$\n",
    "H_{1}: \\mu = \\mu_1 \\neq \\mu_0\n",
    "$$\n",
    "\n",
    "W tym teście używa się statystyki\n",
    "\n",
    "$$\n",
    "U=\\frac{\\bar X - \\mu_0}{\\sigma} \\sqrt{n}\n",
    "$$\n",
    "\n",
    "Zbiór krytyczny jest dany za pomocą przedziału\n",
    "\n",
    "$$\n",
    "\\big(-\\infty,-u(1-\\frac{1}{2}\\alpha)\\big] \\cup \\big[u(1-\\frac{1}{2}\\alpha), +\\infty \\big)\n",
    "$$\n",
    "\n",
    "gdzie $u(\\alpha)$ jest kwantylem rozkładu normalnego.\n"
   ]
  },
  {
   "cell_type": "markdown",
   "metadata": {},
   "source": [
    "## Zdefiniujmy zmienną losową"
   ]
  },
  {
   "cell_type": "code",
   "execution_count": 4,
   "metadata": {},
   "outputs": [],
   "source": [
    "mi = 0\n",
    "sigma = 1\n",
    "X = stats.norm(mi, sigma)"
   ]
  },
  {
   "cell_type": "markdown",
   "metadata": {},
   "source": [
    "## Wyliczmy wartość statystyki\n",
    "\n",
    "$$\n",
    "U=\\frac{\\bar X - \\mu_0}{\\sigma} \\sqrt{n}\n",
    "$$"
   ]
  },
  {
   "cell_type": "code",
   "execution_count": 6,
   "metadata": {},
   "outputs": [
    {
     "data": {
      "text/plain": [
       "-0.45000000000000007"
      ]
     },
     "execution_count": 6,
     "metadata": {},
     "output_type": "execute_result"
    }
   ],
   "source": [
    "srednia = 1.4 # z treści\n",
    "mi = 2 # j.w\n",
    "sigma = 4 # z treści, na początku - informacja o rozkładzie cechy!\n",
    "n = 9 # z treści\n",
    "\n",
    "U = ((srednia-mi)/sigma)*np.sqrt(n)\n",
    "U"
   ]
  },
  {
   "cell_type": "markdown",
   "metadata": {},
   "source": [
    "# $H_0$: $\\mu=2$ przy hipotezie alternatywnej $H_1$: $\\mu <2$\n",
    "\n",
    "## Wypisz przedział krytyczny"
   ]
  },
  {
   "cell_type": "code",
   "execution_count": 8,
   "metadata": {},
   "outputs": [
    {
     "data": {
      "text/plain": [
       "-inf"
      ]
     },
     "execution_count": 8,
     "metadata": {},
     "output_type": "execute_result"
    }
   ],
   "source": [
    "L = np.NINF #negative infinity\n",
    "L"
   ]
  },
  {
   "cell_type": "code",
   "execution_count": 11,
   "metadata": {},
   "outputs": [],
   "source": [
    "R = -X.ppf(1-0.05)"
   ]
  },
  {
   "cell_type": "code",
   "execution_count": 12,
   "metadata": {},
   "outputs": [
    {
     "data": {
      "text/plain": [
       "(-inf, -1.6448536269514722)"
      ]
     },
     "execution_count": 12,
     "metadata": {},
     "output_type": "execute_result"
    }
   ],
   "source": [
    "L, R"
   ]
  },
  {
   "cell_type": "code",
   "execution_count": 13,
   "metadata": {},
   "outputs": [
    {
     "data": {
      "text/plain": [
       "-0.45000000000000007"
      ]
     },
     "execution_count": 13,
     "metadata": {},
     "output_type": "execute_result"
    }
   ],
   "source": [
    "U\n"
   ]
  },
  {
   "cell_type": "markdown",
   "metadata": {},
   "source": [
    "## zweryfikuj hipotezę na podstawie wartości statystyki oraz przedziału krytycznego"
   ]
  },
  {
   "cell_type": "code",
   "execution_count": 14,
   "metadata": {},
   "outputs": [
    {
     "name": "stdout",
     "output_type": "stream",
     "text": [
      "Nie odrzucamy H_0, wartość statystyki testowej nie należy do przedziału\n"
     ]
    }
   ],
   "source": [
    "if U < R:\n",
    "    print(\"Odrzucamy hipotezę zerową H_0, wartość statystyki testowej należy do przedziału\")\n",
    "else:\n",
    "    print(\"Nie odrzucamy H_0, wartość statystyki testowej nie należy do przedziału\")"
   ]
  },
  {
   "cell_type": "markdown",
   "metadata": {},
   "source": [
    "## wylicz p-value"
   ]
  },
  {
   "cell_type": "code",
   "execution_count": 16,
   "metadata": {},
   "outputs": [],
   "source": [
    "p_value = X.cdf(U)"
   ]
  },
  {
   "cell_type": "code",
   "execution_count": 18,
   "metadata": {},
   "outputs": [
    {
     "data": {
      "text/plain": [
       "0.32635522028791997"
      ]
     },
     "execution_count": 18,
     "metadata": {},
     "output_type": "execute_result"
    }
   ],
   "source": [
    "p_value"
   ]
  },
  {
   "cell_type": "markdown",
   "metadata": {},
   "source": [
    "## zweryfikuj hipotezę na podstawie wartości p-value"
   ]
  },
  {
   "cell_type": "code",
   "execution_count": 19,
   "metadata": {},
   "outputs": [
    {
     "name": "stdout",
     "output_type": "stream",
     "text": [
      "Nie odrzucamy H_0, wartość statystyki testowej nie należy do przedziału\n"
     ]
    }
   ],
   "source": [
    "if p_value < 0.05:\n",
    "    print(\"Odrzucamy hipotezę zerową H_0, wartość statystyki testowej należy do przedziału\")\n",
    "else:\n",
    "    print(\"Nie odrzucamy H_0, wartość statystyki testowej nie należy do przedziału\")"
   ]
  },
  {
   "cell_type": "markdown",
   "metadata": {},
   "source": [
    "Narysuj gęstość rozkładu statystyki i zaznacz na nim:\n",
    "<ul>\n",
    "<li> przedział krytyczny </li>\n",
    "<li> wartość statystyki testowej </li>\n",
    "<li> p-value </li>\n",
    "</ul>"
   ]
  },
  {
   "cell_type": "code",
   "execution_count": 20,
   "metadata": {},
   "outputs": [],
   "source": [
    "alpha = 0.05"
   ]
  },
  {
   "cell_type": "code",
   "execution_count": 22,
   "metadata": {},
   "outputs": [],
   "source": [
    "u = U"
   ]
  },
  {
   "cell_type": "code",
   "execution_count": 24,
   "metadata": {},
   "outputs": [
    {
     "data": {
      "image/png": "[encoded data removed]",
      "text/plain": [
       "<Figure size 864x432 with 1 Axes>"
      ]
     },
     "metadata": {
      "needs_background": "light"
     },
     "output_type": "display_data"
    }
   ],
   "source": [
    "u_1=X.ppf(alpha)\n",
    "\n",
    "x = np.linspace(-3,3,100)\n",
    "yp = X.pdf(x)\n",
    "y = X.cdf(x)\n",
    "x1 = np.linspace(-3, u_1)\n",
    "y1 = X.pdf(x1)\n",
    "figs, axs = plt.subplots(1,1, figsize=(12, 6))\n",
    "axs.plot(x,yp, 'k')\n",
    "axs.fill_between(x1, y1, facecolor='#CCCCCC')\n",
    "#axs.text(u_1, 0.1, np.round(X.cdf(u_1),4))\n",
    "axs.text(u_1, 0.1, r'$\\alpha = $ %.3f' % np.round(alpha,3))\n",
    "axs.vlines(u, 0, X.pdf(u), linestyles='--')\n",
    "axs.text(u, 0, r'$statystyka = $ %.3f' % np.round(u,3))\n",
    "axs.text(u-1.0, 0.05, r'$p-value = $ %.3f' % np.round(p_value,3))\n",
    "axs.set_xlabel('x')\n",
    "axs.set_ylabel('PDF(x)')\n",
    "plt.show()"
   ]
  },
  {
   "cell_type": "code",
   "execution_count": null,
   "metadata": {
    "collapsed": true,
    "jupyter": {
     "outputs_hidden": true
    }
   },
   "outputs": [],
   "source": []
  }
 ],
 "metadata": {
  "kernelspec": {
   "display_name": "statystyka1",
   "language": "python",
   "name": "statystyka1"
  },
  "language_info": {
   "codemirror_mode": {
    "name": "ipython",
    "version": 3
   },
   "file_extension": ".py",
   "mimetype": "text/x-python",
   "name": "python",
   "nbconvert_exporter": "python",
   "pygments_lexer": "ipython3",
   "version": "3.8.2"
  }
 },
 "nbformat": 4,
 "nbformat_minor": 4
}
