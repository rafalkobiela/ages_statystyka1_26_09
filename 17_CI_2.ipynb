{
 "cells": [
  {
   "cell_type": "markdown",
   "metadata": {},
   "source": [
    "# Zadanie (przedziały ufności)\n",
    "\n",
    "Zmierzono wytrzymałość 10 losowo wybranych gotowych elementów konstrukcji budowlanych i otrzymano następujące wyniki: \n",
    "\n",
    "383, 284, 339, 340, 305, 386, 378, 335, 344, 346.\n",
    "\n",
    "Zakładamy, że rozkład wytrzymałości tych elementów jest rozkładem normalnym $N(\\mu,\\sigma^2)$ o nieznanych parametrach. Wyznaczyć na podstawie tej próbki 95%-ową realizację przedziału ufności dla nieznanej wartości parametru $\\mu$ badanej cechy populacji. "
   ]
  },
  {
   "cell_type": "code",
   "execution_count": 2,
   "metadata": {},
   "outputs": [],
   "source": [
    "import matplotlib.pyplot as plt\n",
    "import numpy as np\n",
    "from scipy import stats\n",
    "from scipy import integrate"
   ]
  },
  {
   "cell_type": "code",
   "execution_count": 3,
   "metadata": {
    "collapsed": false,
    "jupyter": {
     "outputs_hidden": false
    }
   },
   "outputs": [
    {
     "name": "stdout",
     "output_type": "stream",
     "text": [
      "[383 284 339 340 305 386 378 335 344 346]\n"
     ]
    }
   ],
   "source": [
    "data=np.array([383, 284, 339, 340, 305, 386, 378, 335, 344, 346])\n",
    "print(data)"
   ]
  },
  {
   "cell_type": "markdown",
   "metadata": {},
   "source": [
    "Przedział ufności dla <b>nieznanej wartości przeciętnej $\\mu$</b> populacji, w której <b>badana cecha ma rozkład $N(\\mu,\\sigma^2)$</b>, w przypadku gdy <b>zarówno $\\mu$ jak $\\sigma$ są nieznane</b>, na podstawie $n$--elementowej próby $X_1,\\ldots,X_n$ <b>($n<100$)</b> \n",
    "wynosi\n",
    "\n",
    "$$\n",
    "\\left(\n",
    "\\bar X - t \\left(1-\\frac{\\alpha}{2},n-1 \\right) \\frac{S}{\\sqrt{n-1}},\n",
    "\\bar X + t \\left(1-\\frac{\\alpha}{2},n-1 \\right) \\frac{S}{\\sqrt{n-1}}\n",
    "\\right)\n",
    "$$\n",
    "\n",
    "gdzie \n",
    "\n",
    "$$\n",
    "S^2 = \\frac{1}{n} \\sum_{i=1}^{n} (X_{i} - \\bar X)^2\n",
    "\\mbox{ oraz }\n",
    "\\bar X = \\frac{1}{n} \\sum_{i=1}^{n} X_{i} \n",
    "$$\n",
    "\n",
    "oraz $t(\\alpha,n)$ oznacza kwantyl rzędu $\\alpha$ o $n$ stopniach swobody rozkładu $t$--Studenta."
   ]
  },
  {
   "cell_type": "markdown",
   "metadata": {},
   "source": [
    "## Zdefiniuj zmienną losową"
   ]
  },
  {
   "cell_type": "code",
   "execution_count": 22,
   "metadata": {},
   "outputs": [],
   "source": [
    "n=len(data)\n",
    "t_student = stats.t(n-1)"
   ]
  },
  {
   "cell_type": "markdown",
   "metadata": {},
   "source": [
    "## Wylicz końce przedziałów"
   ]
  },
  {
   "cell_type": "code",
   "execution_count": 33,
   "metadata": {},
   "outputs": [],
   "source": [
    "S = np.std(data)"
   ]
  },
  {
   "cell_type": "code",
   "execution_count": 34,
   "metadata": {},
   "outputs": [],
   "source": [
    "m = np.mean(data)"
   ]
  },
  {
   "cell_type": "code",
   "execution_count": 52,
   "metadata": {},
   "outputs": [],
   "source": [
    "alpha = 0.05"
   ]
  },
  {
   "cell_type": "code",
   "execution_count": 53,
   "metadata": {},
   "outputs": [],
   "source": [
    "L = m - t_student.ppf(1-alpha/2) * S / np.sqrt(n-1)\n",
    "P = m + t_student.ppf(1-alpha/2) * S / np.sqrt(n-1)"
   ]
  },
  {
   "cell_type": "markdown",
   "metadata": {},
   "source": [
    "## Wypisz przedział ufności"
   ]
  },
  {
   "cell_type": "code",
   "execution_count": 54,
   "metadata": {
    "collapsed": false,
    "jupyter": {
     "outputs_hidden": false
    }
   },
   "outputs": [
    {
     "data": {
      "text/plain": [
       "(320.5297030458652, 367.4702969541348)"
      ]
     },
     "execution_count": 54,
     "metadata": {},
     "output_type": "execute_result"
    }
   ],
   "source": [
    "L, P"
   ]
  },
  {
   "cell_type": "markdown",
   "metadata": {},
   "source": [
    "# Zadanie 2\n",
    "Wykonaj zadanie za pomocą <tt>scipy</tt> i <tt>funkcji stats.t.interval</tt>."
   ]
  },
  {
   "cell_type": "code",
   "execution_count": 57,
   "metadata": {
    "collapsed": false,
    "jupyter": {
     "outputs_hidden": false
    }
   },
   "outputs": [
    {
     "data": {
      "text/plain": [
       "(320.5297030458652, 367.4702969541348)"
      ]
     },
     "execution_count": 57,
     "metadata": {},
     "output_type": "execute_result"
    }
   ],
   "source": [
    "stats.t.interval(0.95, n-1, m, scale = S / (np.sqrt(n-1)))"
   ]
  },
  {
   "cell_type": "code",
   "execution_count": null,
   "metadata": {},
   "outputs": [],
   "source": []
  }
 ],
 "metadata": {
  "kernelspec": {
   "display_name": "statystyka1",
   "language": "python",
   "name": "statystyka1"
  },
  "language_info": {
   "codemirror_mode": {
    "name": "ipython",
    "version": 3
   },
   "file_extension": ".py",
   "mimetype": "text/x-python",
   "name": "python",
   "nbconvert_exporter": "python",
   "pygments_lexer": "ipython3",
   "version": "3.8.2"
  }
 },
 "nbformat": 4,
 "nbformat_minor": 4
}
