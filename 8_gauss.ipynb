{
 "cells": [
  {
   "cell_type": "markdown",
   "metadata": {},
   "source": [
    "# Rozkład normalny\n",
    "Gęstość zmiennej losowej $X$ o rozkładzie normalnym z parametrami $\\mu$ i $\\sigma$ jest dana przez \n",
    "$$\n",
    "f(x) = \\frac{1}{\\sigma \\sqrt{2 \\pi} } e^{-\\frac{(x-m)^2}{2\\sigma^2} }.\n",
    "$$"
   ]
  },
  {
   "cell_type": "code",
   "execution_count": 1,
   "metadata": {},
   "outputs": [],
   "source": [
    "import numpy as np\n",
    "import matplotlib.pyplot as plt\n",
    "from scipy import stats\n",
    "import seaborn as sns"
   ]
  },
  {
   "cell_type": "markdown",
   "metadata": {},
   "source": [
    "# Zadanie\n",
    "Proszę:\n",
    "<ul>\n",
    "<li> zdefiniuj zmienną losową o rozkładzie  Normalnym $\\mu=0$, $\\sigma=1$ </li>\n",
    "<li> narysuj dla niej gęstość i dystrybuantę </li>\n",
    "<li> wylosuj próbkę i narysuj histogram (na jednym rysunku) </li>\n",
    "<li> narysuj kilka gęstości rozkładu Normalnego z różnymi parametrami </li>\n",
    "<li> wylosuj kilka próbek dla zmiennej losowej o rozkładzie normalnym  $\\mu=0$, $\\sigma=1$. (Czemu się od siebie różnią). </li> \n",
    "<li> policz skośność i kurtozę dla gęstości Poissona $\\mu=0$, $\\sigma=1$ </li>\n",
    "<ul>"
   ]
  },
  {
   "cell_type": "markdown",
   "metadata": {},
   "source": [
    "Definiujemy zmienną losową"
   ]
  },
  {
   "cell_type": "code",
   "execution_count": null,
   "metadata": {
    "collapsed": false,
    "jupyter": {
     "outputs_hidden": false
    }
   },
   "outputs": [],
   "source": []
  },
  {
   "cell_type": "markdown",
   "metadata": {},
   "source": [
    "Narysujmy gętość zmiennej losowej"
   ]
  },
  {
   "cell_type": "code",
   "execution_count": null,
   "metadata": {},
   "outputs": [],
   "source": []
  },
  {
   "cell_type": "markdown",
   "metadata": {},
   "source": [
    "Narysujmy dystrybuantę zmiennej losowej"
   ]
  },
  {
   "cell_type": "code",
   "execution_count": null,
   "metadata": {
    "collapsed": false,
    "jupyter": {
     "outputs_hidden": false
    }
   },
   "outputs": [],
   "source": []
  },
  {
   "cell_type": "markdown",
   "metadata": {},
   "source": [
    "Wylosujmy próbkę i narysujmy histogram na jednym obrazku"
   ]
  },
  {
   "cell_type": "code",
   "execution_count": null,
   "metadata": {
    "collapsed": false,
    "jupyter": {
     "outputs_hidden": false
    }
   },
   "outputs": [],
   "source": []
  },
  {
   "cell_type": "markdown",
   "metadata": {},
   "source": [
    "Narysujmy gęstości rozkładu jednostajnego z różnymi parametrami"
   ]
  },
  {
   "cell_type": "code",
   "execution_count": null,
   "metadata": {
    "collapsed": false,
    "jupyter": {
     "outputs_hidden": false
    }
   },
   "outputs": [],
   "source": []
  },
  {
   "cell_type": "markdown",
   "metadata": {},
   "source": [
    "Narysujmy kilka histogramów różnych próbek z roskładu normalnego o tych samych parametrach."
   ]
  },
  {
   "cell_type": "code",
   "execution_count": null,
   "metadata": {
    "collapsed": false,
    "jupyter": {
     "outputs_hidden": false
    }
   },
   "outputs": [],
   "source": []
  },
  {
   "cell_type": "markdown",
   "metadata": {},
   "source": [
    "Czemu te próbki różnią się od siebie?"
   ]
  },
  {
   "cell_type": "code",
   "execution_count": null,
   "metadata": {
    "collapsed": true,
    "jupyter": {
     "outputs_hidden": true
    }
   },
   "outputs": [],
   "source": []
  }
 ],
 "metadata": {
  "kernelspec": {
   "display_name": "statystyka1",
   "language": "python",
   "name": "statystyka1"
  },
  "language_info": {
   "codemirror_mode": {
    "name": "ipython",
    "version": 3
   },
   "file_extension": ".py",
   "mimetype": "text/x-python",
   "name": "python",
   "nbconvert_exporter": "python",
   "pygments_lexer": "ipython3",
   "version": "3.8.2"
  }
 },
 "nbformat": 4,
 "nbformat_minor": 4
}
